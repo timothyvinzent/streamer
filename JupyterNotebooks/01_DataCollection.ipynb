{
 "cells": [
  {
   "cell_type": "markdown",
   "id": "c0b382b1-e4ac-427a-b554-8a32963c0bb6",
   "metadata": {},
   "source": [
    "<p><span style=\"font-size:36px\"><strong>1 Data Collection</strong></span></p>"
   ]
  },
  {
   "cell_type": "code",
   "execution_count": null,
   "id": "a579c721-88c9-4529-a77e-4c321d299968",
   "metadata": {},
   "outputs": [],
   "source": [
    "import pandas as pd\n",
    "import geojson as geojs\n",
    "import json as js\n",
    "import requests"
   ]
  },
  {
   "cell_type": "markdown",
   "id": "7d8d35ef-a9a5-4ce1-8e7e-6c0bcbdde59e",
   "metadata": {},
   "source": [
    "<p><span style=\"font-size:18px\"><strong>1.1 Gemeindegrenzen von geo.admin.ch sammeln</strong></span></p>"
   ]
  },
  {
   "cell_type": "markdown",
   "id": "c20363b5-820b-43f6-b4de-e203c3f051bc",
   "metadata": {},
   "source": [
    "Da ein kompletter, aktueller Datensatz aller schweizer Gemeindegrenzen nicht ausfindig gemacht werden konnte, wurden die aktuellen Grenzen aller Gemeinden einzeln von der GEO.Admin API heruntergeladen. Weil dafür die BFS ID der einzelnen Gemeinden nötig ist um die Gemeindegrenzen der API anzufragen, jedoch nach einiger Zeit nicht gefunden werden konnte und es ersichtlich war das die ID's nur bis 7000 zählen, wird bei der Anfrage jede ID von 0 bis 7000 geprüft, so dass alle Gemeinden sicher erfasst werden."
   ]
  },
  {
   "cell_type": "code",
   "execution_count": null,
   "id": "17c685ad-35b8-4646-a266-0f93fc3ad29a",
   "metadata": {},
   "outputs": [],
   "source": [
    "#Lädt die Gemeindegrenzen von der Geo.Admin API herunter und speichert die Daten in Listen\n",
    "#ACHTUNG: Das Herunterladen der Daten braucht mind. eine halbe Stunde\n",
    "BBoxCoord =[]\n",
    "BFSid =[]\n",
    "MultiploygonCoord =[]\n",
    "GemeindeName =[]\n",
    "GemeindeKanton =[]\n",
    "GemeindeFläche =[]\n",
    "GemeindeLabel =[]\n",
    "\n",
    "for x in range(0, 7000):\n",
    "    x = requests.get(f'https://api3.geo.admin.ch/rest/services/api/MapServer/ch.swisstopo.swissboundaries3d-gemeinde-flaeche.fill/{x}?geometryFormat=geojson&sr=4326')\n",
    "    try:\n",
    "        gjs = geojs.loads(x.text)\n",
    "        BBoxCoord.append(gjs['feature']['bbox'])\n",
    "        BFSid.append(gjs['feature']['featureId'])\n",
    "        MultiploygonCoord.append(gjs['feature']['geometry'])\n",
    "        GemeindeName.append(gjs['feature'][\"properties\"]['gemname'])\n",
    "        GemeindeKanton.append(gjs['feature'][\"properties\"]['kanton'])\n",
    "        GemeindeFläche.append(gjs['feature'][\"properties\"]['gemflaeche'])\n",
    "        GemeindeLabel.append(gjs['feature'][\"properties\"][\"label\"])\n",
    "        print(gjs['feature'][\"properties\"][\"label\"], gjs['feature']['featureId'])\n",
    "        print(x.status_code)\n",
    "    except:\n",
    "        print('error')\n",
    "        print(x.status_code)"
   ]
  },
  {
   "cell_type": "code",
   "execution_count": null,
   "id": "a4b4ad62-8d42-4955-bbaa-da9342ead523",
   "metadata": {},
   "outputs": [],
   "source": [
    "#Listen werden zu einem DataFrame zusammengefügt\n",
    "f = {'BFSid':BFSid, 'GemeindeLabel':GemeindeLabel, 'GemeindeName':GemeindeName, 'GemeindeKanton':GemeindeKanton, 'GemeindeFläche':GemeindeFläche, 'Coord BBox':BBoxCoord, 'Polygon':MultiploygonCoord}\n",
    "gemdf = pd.DataFrame(data=f)"
   ]
  },
  {
   "cell_type": "code",
   "execution_count": null,
   "id": "4ed90465-7516-4a19-895b-9ff405276947",
   "metadata": {},
   "outputs": [],
   "source": [
    "#Kontrolle\n",
    "gemdf"
   ]
  },
  {
   "cell_type": "code",
   "execution_count": null,
   "id": "eaa29009-a3cd-48cf-ba6c-3e9392ddfe9f",
   "metadata": {},
   "outputs": [],
   "source": [
    "#DataFrame wird für weitere Verwendung abgespeichert\n",
    "gemdf.to_csv('../Data/GemeindeGrenzen.csv')"
   ]
  }
 ],
 "metadata": {
  "kernelspec": {
   "display_name": "Python 3 (ipykernel)",
   "language": "python",
   "name": "python3"
  },
  "language_info": {
   "codemirror_mode": {
    "name": "ipython",
    "version": 3
   },
   "file_extension": ".py",
   "mimetype": "text/x-python",
   "name": "python",
   "nbconvert_exporter": "python",
   "pygments_lexer": "ipython3",
   "version": "3.9.6"
  }
 },
 "nbformat": 4,
 "nbformat_minor": 5
}
